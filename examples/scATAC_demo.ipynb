{
 "cells": [
  {
   "cell_type": "code",
   "execution_count": 1,
   "metadata": {},
   "outputs": [],
   "source": [
    "from DeepExDC import DeepExDC"
   ]
  },
  {
   "cell_type": "code",
   "execution_count": 2,
   "metadata": {},
   "outputs": [],
   "source": [
    "#实例化DeepExDC对象\n",
    "deepexdc=DeepExDC.DeepExDC(config_path=\"./config_scATAC.JSON\")"
   ]
  },
  {
   "cell_type": "code",
   "execution_count": 3,
   "metadata": {},
   "outputs": [
    {
     "name": "stdout",
     "output_type": "stream",
     "text": [
      "data.max: 1.0\n",
      "data.min: 0.0\n"
     ]
    },
    {
     "name": "stderr",
     "output_type": "stream",
     "text": [
      "2024-10-25 12:35:27,023:INFO:MulticlassOversampling: Running multiclass oversampling with strategy eq_1_vs_many_successive\n",
      "2024-10-25 12:35:27,078:INFO:MulticlassOversampling: Sampling minority class with label: 0\n",
      "2024-10-25 12:35:27,154:INFO:distance_SMOTE: Running sampling via ('distance_SMOTE', \"{'proportion': 1.0, 'n_neighbors': 5, 'nn_params': {}, 'n_jobs': 2, 'ss_params': {'n_dim': 2, 'simplex_sampling': 'random', 'within_simplex_sampling': 'random', 'gaussian_component': {}}, 'random_state': 42, 'class_name': 'distance_SMOTE'}\")\n",
      "2024-10-25 12:35:27,181:INFO:NearestNeighborsWithMetricTensor: NN fitting with metric minkowski\n",
      "2024-10-25 12:35:27,188:INFO:NearestNeighborsWithMetricTensor: kneighbors query minkowski\n"
     ]
    },
    {
     "name": "stdout",
     "output_type": "stream",
     "text": [
      "['Cluster 13', 'Cluster 14', 'zero']\n"
     ]
    },
    {
     "name": "stderr",
     "output_type": "stream",
     "text": [
      "2024-10-25 12:35:27,619:INFO:distance_SMOTE: simplex sampling with n_dim 2\n",
      "2024-10-25 12:35:28,235:INFO:MulticlassOversampling: Sampling minority class with label: 1\n",
      "2024-10-25 12:35:28,549:INFO:distance_SMOTE: Running sampling via ('distance_SMOTE', \"{'proportion': 0.419953596287703, 'n_neighbors': 5, 'nn_params': {}, 'n_jobs': 2, 'ss_params': {'n_dim': 2, 'simplex_sampling': 'random', 'within_simplex_sampling': 'random', 'gaussian_component': {}}, 'random_state': 42, 'class_name': 'distance_SMOTE'}\")\n",
      "2024-10-25 12:35:28,556:INFO:NearestNeighborsWithMetricTensor: NN fitting with metric minkowski\n",
      "2024-10-25 12:35:28,561:INFO:NearestNeighborsWithMetricTensor: kneighbors query minkowski\n",
      "2024-10-25 12:35:28,823:INFO:distance_SMOTE: simplex sampling with n_dim 2\n"
     ]
    },
    {
     "name": "stdout",
     "output_type": "stream",
     "text": [
      "Cluster 13    1000\n",
      "Cluster 14    1000\n",
      "Name: cell_type, dtype: int64\n"
     ]
    },
    {
     "name": "stderr",
     "output_type": "stream",
     "text": [
      "/home/biology/anaconda3/envs/DeepExDC/lib/python3.9/site-packages/sklearn/preprocessing/_encoders.py:975: FutureWarning: `sparse` was renamed to `sparse_output` in version 1.2 and will be removed in 1.4. `sparse_output` is ignored unless you leave `sparse` to its default value.\n",
      "  warnings.warn(\n"
     ]
    },
    {
     "name": "stdout",
     "output_type": "stream",
     "text": [
      "X_train.shape: (1600, 9901, 1)\n",
      "y_train.shape: (1600, 2)\n",
      "\n",
      "X_test.shape: (400, 9901, 1)\n",
      "y_test.shape: (400, 2)\n"
     ]
    },
    {
     "name": "stderr",
     "output_type": "stream",
     "text": [
      "2024-10-25 12:35:31.258404: I tensorflow/tsl/cuda/cudart_stub.cc:28] Could not find cuda drivers on your machine, GPU will not be used.\n",
      "2024-10-25 12:35:31.338868: E tensorflow/compiler/xla/stream_executor/cuda/cuda_dnn.cc:9342] Unable to register cuDNN factory: Attempting to register factory for plugin cuDNN when one has already been registered\n",
      "2024-10-25 12:35:31.338934: E tensorflow/compiler/xla/stream_executor/cuda/cuda_fft.cc:609] Unable to register cuFFT factory: Attempting to register factory for plugin cuFFT when one has already been registered\n",
      "2024-10-25 12:35:31.338983: E tensorflow/compiler/xla/stream_executor/cuda/cuda_blas.cc:1518] Unable to register cuBLAS factory: Attempting to register factory for plugin cuBLAS when one has already been registered\n",
      "2024-10-25 12:35:31.356379: I tensorflow/tsl/cuda/cudart_stub.cc:28] Could not find cuda drivers on your machine, GPU will not be used.\n",
      "2024-10-25 12:35:31.358201: I tensorflow/core/platform/cpu_feature_guard.cc:182] This TensorFlow binary is optimized to use available CPU instructions in performance-critical operations.\n",
      "To enable the following instructions: AVX2 FMA, in other operations, rebuild TensorFlow with the appropriate compiler flags.\n",
      "2024-10-25 12:35:33.018024: W tensorflow/compiler/tf2tensorrt/utils/py_utils.cc:38] TF-TRT Warning: Could not find TensorRT\n"
     ]
    },
    {
     "name": "stdout",
     "output_type": "stream",
     "text": [
      "Using Tensorflow version: 2.14.0, and Keras version: 2.14.0.\n",
      "acti: relu\n",
      "Model: \"model\"\n",
      "_________________________________________________________________\n",
      " Layer (type)                Output Shape              Param #   \n",
      "=================================================================\n",
      " input_1 (InputLayer)        [(None, 9901, 1)]         0         \n",
      "                                                                 \n",
      " conv1d (Conv1D)             (None, 9899, 8)           32        \n",
      "                                                                 \n",
      " max_pooling1d (MaxPooling1  (None, 4949, 8)           0         \n",
      " D)                                                              \n",
      "                                                                 \n",
      " conv1d_1 (Conv1D)           (None, 4947, 16)          400       \n",
      "                                                                 \n",
      " max_pooling1d_1 (MaxPoolin  (None, 2473, 16)          0         \n",
      " g1D)                                                            \n",
      "                                                                 \n",
      " flatten (Flatten)           (None, 39568)             0         \n",
      "                                                                 \n",
      " dense (Dense)               (None, 2)                 79138     \n",
      "                                                                 \n",
      "=================================================================\n",
      "Total params: 79570 (310.82 KB)\n",
      "Trainable params: 79570 (310.82 KB)\n",
      "Non-trainable params: 0 (0.00 Byte)\n",
      "_________________________________________________________________\n",
      "./scATACEXPOUTPUT/cnn\n",
      "Epoch 1/60\n",
      "100/100 [==============================] - 5s 36ms/step - loss: 0.4320 - accuracy: 0.8100 - val_loss: 0.2018 - val_accuracy: 0.9275\n",
      "Epoch 2/60\n",
      "  5/100 [>.............................] - ETA: 2s - loss: 0.1302 - accuracy: 1.0000"
     ]
    },
    {
     "name": "stderr",
     "output_type": "stream",
     "text": [
      "/home/biology/anaconda3/envs/DeepExDC/lib/python3.9/site-packages/keras/src/engine/training.py:3079: UserWarning: You are saving your model as an HDF5 file via `model.save()`. This file format is considered legacy. We recommend using instead the native Keras format, e.g. `model.save('my_model.keras')`.\n",
      "  saving_api.save_model(\n"
     ]
    },
    {
     "name": "stdout",
     "output_type": "stream",
     "text": [
      "100/100 [==============================] - 3s 30ms/step - loss: 0.0984 - accuracy: 0.9825 - val_loss: 0.0599 - val_accuracy: 0.9800\n",
      "Epoch 3/60\n",
      "100/100 [==============================] - 3s 31ms/step - loss: 0.0194 - accuracy: 1.0000 - val_loss: 0.0627 - val_accuracy: 0.9850\n",
      "Epoch 4/60\n",
      "100/100 [==============================] - 3s 33ms/step - loss: 0.0072 - accuracy: 1.0000 - val_loss: 0.0239 - val_accuracy: 0.9850\n",
      "Epoch 5/60\n",
      "100/100 [==============================] - 3s 32ms/step - loss: 0.0037 - accuracy: 1.0000 - val_loss: 0.0192 - val_accuracy: 0.9950\n",
      "Epoch 6/60\n",
      "100/100 [==============================] - 3s 31ms/step - loss: 0.0022 - accuracy: 1.0000 - val_loss: 0.0209 - val_accuracy: 0.9950\n",
      "Epoch 7/60\n",
      "100/100 [==============================] - 3s 32ms/step - loss: 0.0016 - accuracy: 1.0000 - val_loss: 0.0126 - val_accuracy: 0.9950\n",
      "Epoch 8/60\n",
      "100/100 [==============================] - 3s 32ms/step - loss: 0.0011 - accuracy: 1.0000 - val_loss: 0.0112 - val_accuracy: 0.9950\n",
      "Epoch 9/60\n",
      "100/100 [==============================] - 3s 31ms/step - loss: 8.2100e-04 - accuracy: 1.0000 - val_loss: 0.0095 - val_accuracy: 0.9975\n",
      "Epoch 10/60\n",
      "100/100 [==============================] - 3s 31ms/step - loss: 6.5129e-04 - accuracy: 1.0000 - val_loss: 0.0086 - val_accuracy: 0.9975\n",
      "Epoch 11/60\n",
      "100/100 [==============================] - 3s 30ms/step - loss: 5.1351e-04 - accuracy: 1.0000 - val_loss: 0.0080 - val_accuracy: 0.9975\n",
      "Epoch 12/60\n",
      "100/100 [==============================] - 3s 29ms/step - loss: 4.1507e-04 - accuracy: 1.0000 - val_loss: 0.0067 - val_accuracy: 1.0000\n",
      "Epoch 13/60\n",
      "100/100 [==============================] - 3s 30ms/step - loss: 3.4196e-04 - accuracy: 1.0000 - val_loss: 0.0062 - val_accuracy: 1.0000\n",
      "Epoch 14/60\n",
      "100/100 [==============================] - 3s 30ms/step - loss: 2.8658e-04 - accuracy: 1.0000 - val_loss: 0.0056 - val_accuracy: 1.0000\n",
      "Epoch 15/60\n",
      "100/100 [==============================] - 3s 31ms/step - loss: 2.4755e-04 - accuracy: 1.0000 - val_loss: 0.0053 - val_accuracy: 1.0000\n",
      "Epoch 16/60\n",
      "100/100 [==============================] - 3s 31ms/step - loss: 2.1518e-04 - accuracy: 1.0000 - val_loss: 0.0049 - val_accuracy: 1.0000\n",
      "Epoch 17/60\n",
      "100/100 [==============================] - 3s 31ms/step - loss: 1.8289e-04 - accuracy: 1.0000 - val_loss: 0.0046 - val_accuracy: 1.0000\n",
      "Epoch 18/60\n",
      "100/100 [==============================] - 3s 31ms/step - loss: 1.5760e-04 - accuracy: 1.0000 - val_loss: 0.0046 - val_accuracy: 1.0000\n",
      "Epoch 19/60\n",
      "100/100 [==============================] - 3s 31ms/step - loss: 1.3943e-04 - accuracy: 1.0000 - val_loss: 0.0044 - val_accuracy: 1.0000\n",
      "Epoch 20/60\n",
      "100/100 [==============================] - 3s 30ms/step - loss: 1.2457e-04 - accuracy: 1.0000 - val_loss: 0.0040 - val_accuracy: 1.0000\n",
      "Epoch 21/60\n",
      "100/100 [==============================] - 3s 30ms/step - loss: 1.0901e-04 - accuracy: 1.0000 - val_loss: 0.0039 - val_accuracy: 1.0000\n",
      "Epoch 22/60\n",
      "100/100 [==============================] - 3s 30ms/step - loss: 9.6689e-05 - accuracy: 1.0000 - val_loss: 0.0037 - val_accuracy: 1.0000\n",
      "Epoch 23/60\n",
      "100/100 [==============================] - 3s 30ms/step - loss: 8.8001e-05 - accuracy: 1.0000 - val_loss: 0.0035 - val_accuracy: 1.0000\n",
      "Epoch 24/60\n",
      "100/100 [==============================] - 3s 32ms/step - loss: 7.7454e-05 - accuracy: 1.0000 - val_loss: 0.0036 - val_accuracy: 1.0000\n",
      "Epoch 25/60\n",
      "100/100 [==============================] - 3s 31ms/step - loss: 7.0478e-05 - accuracy: 1.0000 - val_loss: 0.0032 - val_accuracy: 1.0000\n",
      "Epoch 26/60\n",
      "100/100 [==============================] - 3s 30ms/step - loss: 6.4167e-05 - accuracy: 1.0000 - val_loss: 0.0034 - val_accuracy: 1.0000\n",
      "Epoch 27/60\n",
      "100/100 [==============================] - 3s 30ms/step - loss: 5.7650e-05 - accuracy: 1.0000 - val_loss: 0.0035 - val_accuracy: 1.0000\n",
      "Epoch 28/60\n",
      "100/100 [==============================] - 3s 30ms/step - loss: 5.2531e-05 - accuracy: 1.0000 - val_loss: 0.0032 - val_accuracy: 1.0000\n",
      "Epoch 29/60\n",
      "100/100 [==============================] - 3s 30ms/step - loss: 4.7833e-05 - accuracy: 1.0000 - val_loss: 0.0030 - val_accuracy: 1.0000\n",
      "Epoch 30/60\n",
      "100/100 [==============================] - 3s 30ms/step - loss: 4.3853e-05 - accuracy: 1.0000 - val_loss: 0.0033 - val_accuracy: 1.0000\n",
      "Epoch 31/60\n",
      "100/100 [==============================] - 3s 30ms/step - loss: 4.0185e-05 - accuracy: 1.0000 - val_loss: 0.0031 - val_accuracy: 1.0000\n",
      "Epoch 32/60\n",
      "100/100 [==============================] - 3s 29ms/step - loss: 3.6776e-05 - accuracy: 1.0000 - val_loss: 0.0030 - val_accuracy: 1.0000\n",
      "Epoch 33/60\n",
      "100/100 [==============================] - 3s 30ms/step - loss: 3.3806e-05 - accuracy: 1.0000 - val_loss: 0.0029 - val_accuracy: 1.0000\n",
      "Epoch 34/60\n",
      "100/100 [==============================] - 3s 30ms/step - loss: 3.1371e-05 - accuracy: 1.0000 - val_loss: 0.0027 - val_accuracy: 1.0000\n",
      "Epoch 35/60\n",
      "100/100 [==============================] - 3s 30ms/step - loss: 2.8713e-05 - accuracy: 1.0000 - val_loss: 0.0027 - val_accuracy: 1.0000\n",
      "Epoch 36/60\n",
      "100/100 [==============================] - 3s 30ms/step - loss: 2.6764e-05 - accuracy: 1.0000 - val_loss: 0.0030 - val_accuracy: 1.0000\n",
      "Epoch 37/60\n",
      "100/100 [==============================] - 3s 30ms/step - loss: 2.4563e-05 - accuracy: 1.0000 - val_loss: 0.0030 - val_accuracy: 1.0000\n",
      "Epoch 38/60\n",
      "100/100 [==============================] - 3s 30ms/step - loss: 2.2722e-05 - accuracy: 1.0000 - val_loss: 0.0028 - val_accuracy: 1.0000\n",
      "Epoch 39/60\n",
      "100/100 [==============================] - 3s 30ms/step - loss: 2.1061e-05 - accuracy: 1.0000 - val_loss: 0.0025 - val_accuracy: 1.0000\n",
      "Epoch 40/60\n",
      "100/100 [==============================] - 3s 30ms/step - loss: 1.9369e-05 - accuracy: 1.0000 - val_loss: 0.0028 - val_accuracy: 1.0000\n",
      "Epoch 41/60\n",
      "100/100 [==============================] - 3s 29ms/step - loss: 1.7964e-05 - accuracy: 1.0000 - val_loss: 0.0023 - val_accuracy: 1.0000\n",
      "Epoch 42/60\n",
      "100/100 [==============================] - 3s 29ms/step - loss: 1.6805e-05 - accuracy: 1.0000 - val_loss: 0.0026 - val_accuracy: 1.0000\n",
      "Epoch 43/60\n",
      "100/100 [==============================] - 3s 30ms/step - loss: 1.5581e-05 - accuracy: 1.0000 - val_loss: 0.0027 - val_accuracy: 1.0000\n",
      "Epoch 44/60\n",
      "100/100 [==============================] - 3s 29ms/step - loss: 1.4539e-05 - accuracy: 1.0000 - val_loss: 0.0028 - val_accuracy: 1.0000\n",
      "Epoch 45/60\n",
      "100/100 [==============================] - 3s 30ms/step - loss: 1.3540e-05 - accuracy: 1.0000 - val_loss: 0.0026 - val_accuracy: 1.0000\n",
      "Epoch 46/60\n",
      "100/100 [==============================] - 3s 29ms/step - loss: 1.2712e-05 - accuracy: 1.0000 - val_loss: 0.0025 - val_accuracy: 1.0000\n",
      "Epoch 47/60\n",
      "100/100 [==============================] - 3s 29ms/step - loss: 1.1748e-05 - accuracy: 1.0000 - val_loss: 0.0026 - val_accuracy: 1.0000\n",
      "Epoch 48/60\n",
      "100/100 [==============================] - 3s 29ms/step - loss: 1.1024e-05 - accuracy: 1.0000 - val_loss: 0.0025 - val_accuracy: 1.0000\n",
      "Epoch 49/60\n",
      "100/100 [==============================] - 3s 29ms/step - loss: 1.0316e-05 - accuracy: 1.0000 - val_loss: 0.0027 - val_accuracy: 1.0000\n",
      "Epoch 50/60\n",
      "100/100 [==============================] - 3s 28ms/step - loss: 9.6318e-06 - accuracy: 1.0000 - val_loss: 0.0026 - val_accuracy: 1.0000\n",
      "Epoch 51/60\n",
      "100/100 [==============================] - 3s 31ms/step - loss: 8.9298e-06 - accuracy: 1.0000 - val_loss: 0.0023 - val_accuracy: 1.0000\n",
      "Epoch 52/60\n",
      "100/100 [==============================] - 3s 29ms/step - loss: 8.4238e-06 - accuracy: 1.0000 - val_loss: 0.0028 - val_accuracy: 1.0000\n",
      "Epoch 53/60\n",
      "100/100 [==============================] - 3s 29ms/step - loss: 7.8717e-06 - accuracy: 1.0000 - val_loss: 0.0029 - val_accuracy: 1.0000\n",
      "Epoch 54/60\n",
      "100/100 [==============================] - 3s 29ms/step - loss: 7.3453e-06 - accuracy: 1.0000 - val_loss: 0.0028 - val_accuracy: 1.0000\n",
      "Epoch 55/60\n",
      "100/100 [==============================] - 3s 29ms/step - loss: 6.9584e-06 - accuracy: 1.0000 - val_loss: 0.0032 - val_accuracy: 1.0000\n",
      "Epoch 56/60\n",
      "100/100 [==============================] - 3s 28ms/step - loss: 6.4558e-06 - accuracy: 1.0000 - val_loss: 0.0024 - val_accuracy: 1.0000\n",
      "Epoch 57/60\n",
      "100/100 [==============================] - 3s 29ms/step - loss: 6.0568e-06 - accuracy: 1.0000 - val_loss: 0.0026 - val_accuracy: 1.0000\n",
      "Epoch 58/60\n",
      "100/100 [==============================] - 3s 29ms/step - loss: 5.6959e-06 - accuracy: 1.0000 - val_loss: 0.0026 - val_accuracy: 1.0000\n",
      "Epoch 59/60\n",
      "100/100 [==============================] - 3s 28ms/step - loss: 5.3322e-06 - accuracy: 1.0000 - val_loss: 0.0027 - val_accuracy: 1.0000\n",
      "Epoch 60/60\n",
      "100/100 [==============================] - 3s 29ms/step - loss: 5.0034e-06 - accuracy: 1.0000 - val_loss: 0.0024 - val_accuracy: 1.0000\n",
      "13/13 [==============================] - 0s 16ms/step - loss: 0.0024 - accuracy: 1.0000\n",
      "Accuracy: 100.00%\n"
     ]
    }
   ],
   "source": [
    "deepexdc.train_model()"
   ]
  },
  {
   "cell_type": "code",
   "execution_count": 4,
   "metadata": {},
   "outputs": [
    {
     "name": "stderr",
     "output_type": "stream",
     "text": [
      "IProgress not found. Please update jupyter and ipywidgets. See https://ipywidgets.readthedocs.io/en/stable/user_install.html\n"
     ]
    },
    {
     "name": "stdout",
     "output_type": "stream",
     "text": [
      "data.max: 1.0\n",
      "data.min: 0.0\n",
      "X_test.shape: (113, 9901)\n",
      "y_test.shape: (113, 2)\n",
      "------model eval------\n"
     ]
    },
    {
     "name": "stderr",
     "output_type": "stream",
     "text": [
      "`sparse` was renamed to `sparse_output` in version 1.2 and will be removed in 1.4. `sparse_output` is ignored unless you leave `sparse` to its default value.\n"
     ]
    },
    {
     "name": "stdout",
     "output_type": "stream",
     "text": [
      "29/29 [==============================] - 1s 11ms/step\n",
      "              precision    recall  f1-score   support\n",
      "\n",
      "  Cluster 13       1.00      1.00      1.00       233\n",
      "  Cluster 14       1.00      1.00      1.00       217\n",
      "\n",
      "    accuracy                           1.00       450\n",
      "   macro avg       1.00      1.00      1.00       450\n",
      "weighted avg       1.00      1.00      1.00       450\n",
      "\n",
      "------model eval------\n",
      "8/8 [==============================] - 0s 9ms/step\n"
     ]
    },
    {
     "name": "stderr",
     "output_type": "stream",
     "text": [
      "A column-vector y was passed when a 1d array was expected. Please change the shape of y to (n_samples, ), for example using ravel().\n",
      "`sparse` was renamed to `sparse_output` in version 1.2 and will be removed in 1.4. `sparse_output` is ignored unless you leave `sparse` to its default value.\n"
     ]
    },
    {
     "name": "stdout",
     "output_type": "stream",
     "text": [
      "              precision    recall  f1-score   support\n",
      "\n",
      "  Cluster 13       1.00      1.00      1.00        54\n",
      "  Cluster 14       1.00      1.00      1.00        59\n",
      "\n",
      "    accuracy                           1.00       113\n",
      "   macro avg       1.00      1.00      1.00       113\n",
      "weighted avg       1.00      1.00      1.00       113\n",
      "\n"
     ]
    },
    {
     "name": "stderr",
     "output_type": "stream",
     "text": [
      "A column-vector y was passed when a 1d array was expected. Please change the shape of y to (n_samples, ), for example using ravel().\n",
      "Your TensorFlow version is newer than 2.4.0 and so graph support has been removed in eager mode and some static graphs may not be supported. See PR #1483 for discussion.\n"
     ]
    },
    {
     "name": "stdout",
     "output_type": "stream",
     "text": [
      "e.expected_value:[1.7236962e-05 9.9998260e-01]\n"
     ]
    },
    {
     "name": "stderr",
     "output_type": "stream",
     "text": [
      "  0%|          | 0/54 [00:00<?, ?it/s]`tf.keras.backend.set_learning_phase` is deprecated and will be removed after 2020-10-11. To update it, simply pass a True/False value to the `training` argument of the `__call__` method of your layer or model.\n",
      "100%|██████████| 54/54 [00:56<00:00,  1.05s/it]\n"
     ]
    },
    {
     "name": "stdout",
     "output_type": "stream",
     "text": [
      "(54, 2, 1, 9901, 1)\n",
      "e.expected_value:[9.9997896e-01 2.1138952e-05]\n"
     ]
    },
    {
     "name": "stderr",
     "output_type": "stream",
     "text": [
      "100%|██████████| 59/59 [00:57<00:00,  1.02it/s]\n"
     ]
    },
    {
     "name": "stdout",
     "output_type": "stream",
     "text": [
      "(59, 2, 1, 9901, 1)\n",
      "(113, 2, 1, 9901, 1)\n",
      "SHAP_value save to:./scATACEXPOUTPUT/shap/counts_test_shap.h5\n"
     ]
    }
   ],
   "source": [
    "deepexdc.run_shap()"
   ]
  },
  {
   "cell_type": "code",
   "execution_count": 5,
   "metadata": {},
   "outputs": [
    {
     "name": "stdout",
     "output_type": "stream",
     "text": [
      "shap_data.shape (9901, 113, 2)\n",
      "    cell_id   cell_type\n",
      "0  cell_440  Cluster 13\n",
      "1  cell_131  Cluster 13\n",
      "2  cell_226  Cluster 13\n",
      "3  cell_273  Cluster 13\n",
      "4  cell_505  Cluster 13\n"
     ]
    },
    {
     "name": "stderr",
     "output_type": "stream",
     "text": [
      "100%|██████████| 9901/9901 [01:16<00:00, 129.12it/s]\n"
     ]
    },
    {
     "name": "stdout",
     "output_type": "stream",
     "text": [
      "csv save to: ./scATACEXPOUTPUT/result/canberra_test.csv\n"
     ]
    }
   ],
   "source": [
    "deepexdc.run_dc()"
   ]
  }
 ],
 "metadata": {
  "kernelspec": {
   "display_name": "Python 3.9.20 ('DeepExDC')",
   "language": "python",
   "name": "python3"
  },
  "language_info": {
   "codemirror_mode": {
    "name": "ipython",
    "version": 3
   },
   "file_extension": ".py",
   "mimetype": "text/x-python",
   "name": "python",
   "nbconvert_exporter": "python",
   "pygments_lexer": "ipython3",
   "version": "3.9.20"
  },
  "vscode": {
   "interpreter": {
    "hash": "ffb6008f93e8a199d8044d4ca336490872842b2c22ddec706d777c7eb0f86f73"
   }
  }
 },
 "nbformat": 4,
 "nbformat_minor": 2
}
