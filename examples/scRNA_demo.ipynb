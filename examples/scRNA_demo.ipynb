{
 "cells": [
  {
   "cell_type": "code",
   "execution_count": 1,
   "metadata": {},
   "outputs": [],
   "source": [
    "from DeepExDC import DeepExDC"
   ]
  },
  {
   "cell_type": "code",
   "execution_count": 2,
   "metadata": {},
   "outputs": [],
   "source": [
    "#实例化DeepExDC对象\n",
    "deepexdc=DeepExDC.DeepExDC(config_path=\"./config_scRNA.JSON\")"
   ]
  },
  {
   "cell_type": "code",
   "execution_count": 3,
   "metadata": {},
   "outputs": [
    {
     "name": "stdout",
     "output_type": "stream",
     "text": [
      "data.max: 1.0000000000000004\n",
      "data.min: -1.0\n"
     ]
    },
    {
     "name": "stderr",
     "output_type": "stream",
     "text": [
      "2024-10-25 12:48:12,865:INFO:MulticlassOversampling: Running multiclass oversampling with strategy eq_1_vs_many_successive\n"
     ]
    },
    {
     "name": "stdout",
     "output_type": "stream",
     "text": [
      "['G1', 'G2', 'zero']\n"
     ]
    },
    {
     "name": "stderr",
     "output_type": "stream",
     "text": [
      "2024-10-25 12:48:13,169:INFO:MulticlassOversampling: Sampling minority class with label: 0\n",
      "2024-10-25 12:48:13,588:INFO:distance_SMOTE: Running sampling via ('distance_SMOTE', \"{'proportion': 1.0, 'n_neighbors': 5, 'nn_params': {}, 'n_jobs': 2, 'ss_params': {'n_dim': 2, 'simplex_sampling': 'random', 'within_simplex_sampling': 'random', 'gaussian_component': {}}, 'random_state': 42, 'class_name': 'distance_SMOTE'}\")\n",
      "2024-10-25 12:48:13,598:INFO:NearestNeighborsWithMetricTensor: NN fitting with metric minkowski\n",
      "2024-10-25 12:48:13,601:INFO:NearestNeighborsWithMetricTensor: kneighbors query minkowski\n",
      "2024-10-25 12:48:13,861:INFO:distance_SMOTE: simplex sampling with n_dim 2\n",
      "2024-10-25 12:48:16,548:INFO:MulticlassOversampling: Sampling minority class with label: 1\n",
      "2024-10-25 12:48:17,062:INFO:distance_SMOTE: Running sampling via ('distance_SMOTE', \"{'proportion': 0.4887525562372188, 'n_neighbors': 5, 'nn_params': {}, 'n_jobs': 2, 'ss_params': {'n_dim': 2, 'simplex_sampling': 'random', 'within_simplex_sampling': 'random', 'gaussian_component': {}}, 'random_state': 42, 'class_name': 'distance_SMOTE'}\")\n",
      "2024-10-25 12:48:17,066:INFO:NearestNeighborsWithMetricTensor: NN fitting with metric minkowski\n",
      "2024-10-25 12:48:17,069:INFO:NearestNeighborsWithMetricTensor: kneighbors query minkowski\n",
      "2024-10-25 12:48:17,156:INFO:distance_SMOTE: simplex sampling with n_dim 2\n"
     ]
    },
    {
     "name": "stdout",
     "output_type": "stream",
     "text": [
      "G1    1000\n",
      "G2    1000\n",
      "Name: cell_type, dtype: int64\n"
     ]
    },
    {
     "name": "stderr",
     "output_type": "stream",
     "text": [
      "/home/biology/anaconda3/envs/DeepExDC/lib/python3.9/site-packages/sklearn/preprocessing/_encoders.py:975: FutureWarning: `sparse` was renamed to `sparse_output` in version 1.2 and will be removed in 1.4. `sparse_output` is ignored unless you leave `sparse` to its default value.\n",
      "  warnings.warn(\n"
     ]
    },
    {
     "name": "stdout",
     "output_type": "stream",
     "text": [
      "X_train.shape: (1600, 11436, 1)\n",
      "y_train.shape: (1600, 2)\n",
      "\n",
      "X_test.shape: (400, 11436, 1)\n",
      "y_test.shape: (400, 2)\n"
     ]
    },
    {
     "name": "stderr",
     "output_type": "stream",
     "text": [
      "2024-10-25 12:48:21.994400: I tensorflow/tsl/cuda/cudart_stub.cc:28] Could not find cuda drivers on your machine, GPU will not be used.\n",
      "2024-10-25 12:48:22.073460: E tensorflow/compiler/xla/stream_executor/cuda/cuda_dnn.cc:9342] Unable to register cuDNN factory: Attempting to register factory for plugin cuDNN when one has already been registered\n",
      "2024-10-25 12:48:22.075414: E tensorflow/compiler/xla/stream_executor/cuda/cuda_fft.cc:609] Unable to register cuFFT factory: Attempting to register factory for plugin cuFFT when one has already been registered\n",
      "2024-10-25 12:48:22.075468: E tensorflow/compiler/xla/stream_executor/cuda/cuda_blas.cc:1518] Unable to register cuBLAS factory: Attempting to register factory for plugin cuBLAS when one has already been registered\n",
      "2024-10-25 12:48:22.088851: I tensorflow/tsl/cuda/cudart_stub.cc:28] Could not find cuda drivers on your machine, GPU will not be used.\n",
      "2024-10-25 12:48:22.090382: I tensorflow/core/platform/cpu_feature_guard.cc:182] This TensorFlow binary is optimized to use available CPU instructions in performance-critical operations.\n",
      "To enable the following instructions: AVX2 FMA, in other operations, rebuild TensorFlow with the appropriate compiler flags.\n",
      "2024-10-25 12:48:23.765967: W tensorflow/compiler/tf2tensorrt/utils/py_utils.cc:38] TF-TRT Warning: Could not find TensorRT\n"
     ]
    },
    {
     "name": "stdout",
     "output_type": "stream",
     "text": [
      "Using Tensorflow version: 2.14.0, and Keras version: 2.14.0.\n",
      "acti: tanh\n",
      "Model: \"model\"\n",
      "_________________________________________________________________\n",
      " Layer (type)                Output Shape              Param #   \n",
      "=================================================================\n",
      " input_1 (InputLayer)        [(None, 11436, 1)]        0         \n",
      "                                                                 \n",
      " conv1d (Conv1D)             (None, 11434, 8)          32        \n",
      "                                                                 \n",
      " max_pooling1d (MaxPooling1  (None, 5717, 8)           0         \n",
      " D)                                                              \n",
      "                                                                 \n",
      " conv1d_1 (Conv1D)           (None, 5715, 16)          400       \n",
      "                                                                 \n",
      " max_pooling1d_1 (MaxPoolin  (None, 2857, 16)          0         \n",
      " g1D)                                                            \n",
      "                                                                 \n",
      " flatten (Flatten)           (None, 45712)             0         \n",
      "                                                                 \n",
      " dense (Dense)               (None, 2)                 91426     \n",
      "                                                                 \n",
      "=================================================================\n",
      "Total params: 91858 (358.82 KB)\n",
      "Trainable params: 91858 (358.82 KB)\n",
      "Non-trainable params: 0 (0.00 Byte)\n",
      "_________________________________________________________________\n",
      "./scRNAEXPOUTPUT/cnn\n",
      "Epoch 1/60\n",
      "100/100 [==============================] - 5s 38ms/step - loss: 0.1227 - accuracy: 0.9581 - val_loss: 0.0073 - val_accuracy: 1.0000\n",
      "Epoch 2/60\n",
      "  3/100 [..............................] - ETA: 3s - loss: 0.0085 - accuracy: 1.0000"
     ]
    },
    {
     "name": "stderr",
     "output_type": "stream",
     "text": [
      "/home/biology/anaconda3/envs/DeepExDC/lib/python3.9/site-packages/keras/src/engine/training.py:3079: UserWarning: You are saving your model as an HDF5 file via `model.save()`. This file format is considered legacy. We recommend using instead the native Keras format, e.g. `model.save('my_model.keras')`.\n",
      "  saving_api.save_model(\n"
     ]
    },
    {
     "name": "stdout",
     "output_type": "stream",
     "text": [
      "100/100 [==============================] - 3s 35ms/step - loss: 0.0050 - accuracy: 1.0000 - val_loss: 0.0029 - val_accuracy: 1.0000\n",
      "Epoch 3/60\n",
      "100/100 [==============================] - 3s 33ms/step - loss: 0.0023 - accuracy: 1.0000 - val_loss: 0.0017 - val_accuracy: 1.0000\n",
      "Epoch 4/60\n",
      "100/100 [==============================] - 3s 34ms/step - loss: 0.0013 - accuracy: 1.0000 - val_loss: 9.9955e-04 - val_accuracy: 1.0000\n",
      "Epoch 5/60\n",
      "100/100 [==============================] - 3s 34ms/step - loss: 8.5941e-04 - accuracy: 1.0000 - val_loss: 7.1123e-04 - val_accuracy: 1.0000\n",
      "Epoch 6/60\n",
      "100/100 [==============================] - 3s 33ms/step - loss: 6.1788e-04 - accuracy: 1.0000 - val_loss: 5.0503e-04 - val_accuracy: 1.0000\n",
      "Epoch 7/60\n",
      "100/100 [==============================] - 3s 33ms/step - loss: 4.5481e-04 - accuracy: 1.0000 - val_loss: 3.8727e-04 - val_accuracy: 1.0000\n",
      "Epoch 8/60\n",
      "100/100 [==============================] - 3s 31ms/step - loss: 3.5538e-04 - accuracy: 1.0000 - val_loss: 3.0743e-04 - val_accuracy: 1.0000\n",
      "Epoch 9/60\n",
      "100/100 [==============================] - 3s 32ms/step - loss: 2.8143e-04 - accuracy: 1.0000 - val_loss: 2.4783e-04 - val_accuracy: 1.0000\n",
      "Epoch 10/60\n",
      "100/100 [==============================] - 3s 32ms/step - loss: 2.2979e-04 - accuracy: 1.0000 - val_loss: 2.0364e-04 - val_accuracy: 1.0000\n",
      "Epoch 11/60\n",
      "100/100 [==============================] - 3s 31ms/step - loss: 1.9121e-04 - accuracy: 1.0000 - val_loss: 1.7139e-04 - val_accuracy: 1.0000\n",
      "Epoch 12/60\n",
      "100/100 [==============================] - 3s 30ms/step - loss: 1.6015e-04 - accuracy: 1.0000 - val_loss: 1.4479e-04 - val_accuracy: 1.0000\n",
      "Epoch 13/60\n",
      "100/100 [==============================] - 3s 30ms/step - loss: 1.3614e-04 - accuracy: 1.0000 - val_loss: 1.2410e-04 - val_accuracy: 1.0000\n",
      "Epoch 14/60\n",
      "100/100 [==============================] - 3s 31ms/step - loss: 1.1788e-04 - accuracy: 1.0000 - val_loss: 1.0831e-04 - val_accuracy: 1.0000\n",
      "Epoch 15/60\n",
      "100/100 [==============================] - 3s 30ms/step - loss: 1.0311e-04 - accuracy: 1.0000 - val_loss: 9.3775e-05 - val_accuracy: 1.0000\n",
      "Epoch 16/60\n",
      "100/100 [==============================] - 3s 30ms/step - loss: 9.0549e-05 - accuracy: 1.0000 - val_loss: 8.2925e-05 - val_accuracy: 1.0000\n",
      "Epoch 17/60\n",
      "100/100 [==============================] - 3s 31ms/step - loss: 7.9010e-05 - accuracy: 1.0000 - val_loss: 7.2915e-05 - val_accuracy: 1.0000\n",
      "Epoch 18/60\n",
      "100/100 [==============================] - 3s 30ms/step - loss: 7.0287e-05 - accuracy: 1.0000 - val_loss: 6.4695e-05 - val_accuracy: 1.0000\n",
      "Epoch 19/60\n",
      "100/100 [==============================] - 3s 30ms/step - loss: 6.1994e-05 - accuracy: 1.0000 - val_loss: 5.9975e-05 - val_accuracy: 1.0000\n",
      "Epoch 20/60\n",
      "100/100 [==============================] - 3s 31ms/step - loss: 5.6003e-05 - accuracy: 1.0000 - val_loss: 5.2009e-05 - val_accuracy: 1.0000\n",
      "Epoch 21/60\n",
      "100/100 [==============================] - 3s 31ms/step - loss: 5.0139e-05 - accuracy: 1.0000 - val_loss: 4.6871e-05 - val_accuracy: 1.0000\n",
      "Epoch 22/60\n",
      "100/100 [==============================] - 3s 30ms/step - loss: 4.5376e-05 - accuracy: 1.0000 - val_loss: 4.3129e-05 - val_accuracy: 1.0000\n",
      "Epoch 23/60\n",
      "100/100 [==============================] - 3s 30ms/step - loss: 4.0954e-05 - accuracy: 1.0000 - val_loss: 3.8361e-05 - val_accuracy: 1.0000\n",
      "Epoch 24/60\n",
      "100/100 [==============================] - 3s 31ms/step - loss: 3.7385e-05 - accuracy: 1.0000 - val_loss: 3.5366e-05 - val_accuracy: 1.0000\n",
      "Epoch 25/60\n",
      "100/100 [==============================] - 3s 31ms/step - loss: 3.3978e-05 - accuracy: 1.0000 - val_loss: 3.1938e-05 - val_accuracy: 1.0000\n",
      "Epoch 26/60\n",
      "100/100 [==============================] - 3s 30ms/step - loss: 3.0865e-05 - accuracy: 1.0000 - val_loss: 2.8983e-05 - val_accuracy: 1.0000\n",
      "Epoch 27/60\n",
      "100/100 [==============================] - 3s 30ms/step - loss: 2.8446e-05 - accuracy: 1.0000 - val_loss: 2.6775e-05 - val_accuracy: 1.0000\n",
      "Epoch 28/60\n",
      "100/100 [==============================] - 3s 31ms/step - loss: 2.5927e-05 - accuracy: 1.0000 - val_loss: 2.4418e-05 - val_accuracy: 1.0000\n",
      "Epoch 29/60\n",
      "100/100 [==============================] - 3s 31ms/step - loss: 2.3868e-05 - accuracy: 1.0000 - val_loss: 2.2612e-05 - val_accuracy: 1.0000\n",
      "Epoch 30/60\n",
      "100/100 [==============================] - 3s 30ms/step - loss: 2.1972e-05 - accuracy: 1.0000 - val_loss: 2.0674e-05 - val_accuracy: 1.0000\n",
      "Epoch 31/60\n",
      "100/100 [==============================] - 3s 30ms/step - loss: 2.0280e-05 - accuracy: 1.0000 - val_loss: 1.9128e-05 - val_accuracy: 1.0000\n",
      "Epoch 32/60\n",
      "100/100 [==============================] - 3s 31ms/step - loss: 1.8805e-05 - accuracy: 1.0000 - val_loss: 1.7688e-05 - val_accuracy: 1.0000\n",
      "Epoch 33/60\n",
      "100/100 [==============================] - 3s 29ms/step - loss: 1.7304e-05 - accuracy: 1.0000 - val_loss: 1.6324e-05 - val_accuracy: 1.0000\n",
      "Epoch 34/60\n",
      "100/100 [==============================] - 3s 31ms/step - loss: 1.6069e-05 - accuracy: 1.0000 - val_loss: 1.5184e-05 - val_accuracy: 1.0000\n",
      "Epoch 35/60\n",
      "100/100 [==============================] - 3s 31ms/step - loss: 1.4856e-05 - accuracy: 1.0000 - val_loss: 1.4105e-05 - val_accuracy: 1.0000\n",
      "Epoch 36/60\n",
      "100/100 [==============================] - 3s 30ms/step - loss: 1.3842e-05 - accuracy: 1.0000 - val_loss: 1.3042e-05 - val_accuracy: 1.0000\n",
      "Epoch 37/60\n",
      "100/100 [==============================] - 3s 30ms/step - loss: 1.2831e-05 - accuracy: 1.0000 - val_loss: 1.2125e-05 - val_accuracy: 1.0000\n",
      "Epoch 38/60\n",
      "100/100 [==============================] - 3s 31ms/step - loss: 1.2012e-05 - accuracy: 1.0000 - val_loss: 1.1296e-05 - val_accuracy: 1.0000\n",
      "Epoch 39/60\n",
      "100/100 [==============================] - 3s 30ms/step - loss: 1.1106e-05 - accuracy: 1.0000 - val_loss: 1.0622e-05 - val_accuracy: 1.0000\n",
      "Epoch 40/60\n",
      "100/100 [==============================] - 3s 32ms/step - loss: 1.0379e-05 - accuracy: 1.0000 - val_loss: 9.8482e-06 - val_accuracy: 1.0000\n",
      "Epoch 41/60\n",
      "100/100 [==============================] - 3s 31ms/step - loss: 9.6637e-06 - accuracy: 1.0000 - val_loss: 9.2215e-06 - val_accuracy: 1.0000\n",
      "Epoch 42/60\n",
      "100/100 [==============================] - 4s 36ms/step - loss: 9.0347e-06 - accuracy: 1.0000 - val_loss: 8.5557e-06 - val_accuracy: 1.0000\n",
      "Epoch 43/60\n",
      "100/100 [==============================] - 3s 33ms/step - loss: 8.4123e-06 - accuracy: 1.0000 - val_loss: 7.9895e-06 - val_accuracy: 1.0000\n",
      "Epoch 44/60\n",
      "100/100 [==============================] - 3s 33ms/step - loss: 7.8670e-06 - accuracy: 1.0000 - val_loss: 7.4883e-06 - val_accuracy: 1.0000\n",
      "Epoch 45/60\n",
      "100/100 [==============================] - 3s 33ms/step - loss: 7.3492e-06 - accuracy: 1.0000 - val_loss: 6.9729e-06 - val_accuracy: 1.0000\n",
      "Epoch 46/60\n",
      "100/100 [==============================] - 3s 32ms/step - loss: 6.9014e-06 - accuracy: 1.0000 - val_loss: 6.5251e-06 - val_accuracy: 1.0000\n",
      "Epoch 47/60\n",
      "100/100 [==============================] - 3s 32ms/step - loss: 6.4629e-06 - accuracy: 1.0000 - val_loss: 6.1305e-06 - val_accuracy: 1.0000\n",
      "Epoch 48/60\n",
      "100/100 [==============================] - 3s 32ms/step - loss: 6.0610e-06 - accuracy: 1.0000 - val_loss: 5.7404e-06 - val_accuracy: 1.0000\n",
      "Epoch 49/60\n",
      "100/100 [==============================] - 3s 32ms/step - loss: 5.6845e-06 - accuracy: 1.0000 - val_loss: 5.3703e-06 - val_accuracy: 1.0000\n",
      "Epoch 50/60\n",
      "100/100 [==============================] - 3s 32ms/step - loss: 5.3088e-06 - accuracy: 1.0000 - val_loss: 5.0365e-06 - val_accuracy: 1.0000\n",
      "Epoch 51/60\n",
      "100/100 [==============================] - 3s 30ms/step - loss: 4.9941e-06 - accuracy: 1.0000 - val_loss: 4.7448e-06 - val_accuracy: 1.0000\n",
      "Epoch 52/60\n",
      "100/100 [==============================] - 3s 30ms/step - loss: 4.6949e-06 - accuracy: 1.0000 - val_loss: 4.4375e-06 - val_accuracy: 1.0000\n",
      "Epoch 53/60\n",
      "100/100 [==============================] - 3s 31ms/step - loss: 4.4112e-06 - accuracy: 1.0000 - val_loss: 4.1645e-06 - val_accuracy: 1.0000\n",
      "Epoch 54/60\n",
      "100/100 [==============================] - 3s 33ms/step - loss: 4.1337e-06 - accuracy: 1.0000 - val_loss: 3.9324e-06 - val_accuracy: 1.0000\n",
      "Epoch 55/60\n",
      "100/100 [==============================] - 3s 32ms/step - loss: 3.8892e-06 - accuracy: 1.0000 - val_loss: 3.6850e-06 - val_accuracy: 1.0000\n",
      "Epoch 56/60\n",
      "100/100 [==============================] - 3s 32ms/step - loss: 3.6668e-06 - accuracy: 1.0000 - val_loss: 3.4666e-06 - val_accuracy: 1.0000\n",
      "Epoch 57/60\n",
      "100/100 [==============================] - 3s 33ms/step - loss: 3.4396e-06 - accuracy: 1.0000 - val_loss: 3.2708e-06 - val_accuracy: 1.0000\n",
      "Epoch 58/60\n",
      "100/100 [==============================] - 3s 31ms/step - loss: 3.2438e-06 - accuracy: 1.0000 - val_loss: 3.0663e-06 - val_accuracy: 1.0000\n",
      "Epoch 59/60\n",
      "100/100 [==============================] - 3s 33ms/step - loss: 3.0429e-06 - accuracy: 1.0000 - val_loss: 2.8747e-06 - val_accuracy: 1.0000\n",
      "Epoch 60/60\n",
      "100/100 [==============================] - 3s 31ms/step - loss: 2.8582e-06 - accuracy: 1.0000 - val_loss: 2.7361e-06 - val_accuracy: 1.0000\n",
      "13/13 [==============================] - 0s 18ms/step - loss: 2.7361e-06 - accuracy: 1.0000\n",
      "Accuracy: 100.00%\n"
     ]
    }
   ],
   "source": [
    "deepexdc.train_model()"
   ]
  },
  {
   "cell_type": "code",
   "execution_count": 3,
   "metadata": {},
   "outputs": [
    {
     "data": {
      "text/plain": [
       "{'data_path': '../data/scRNA/Islam.hdf5',\n",
       " 'label_path': '../data/scRNA/label_info.pickle',\n",
       " 'output_dir': './scRNAEXPOUTPUT',\n",
       " 'group': 'counts',\n",
       " 'smote': True,\n",
       " 'acti': 'tanh',\n",
       " 'feature_name': 'genes',\n",
       " 'explain_mode': 'all',\n",
       " 'save_shap_file': False,\n",
       " 'dist_method': 'chord',\n",
       " 'random_background': False,\n",
       " 'scaler_type': 'minmax',\n",
       " 'feature_range': [-1, 1],\n",
       " 'anno_dir': None,\n",
       " 'genome': None,\n",
       " 'chrom_list': None,\n",
       " 'resolution': None,\n",
       " 'raw_dir': None,\n",
       " 'select_label': None,\n",
       " 'feature_df_path': './scRNAEXPOUTPUT/feature_df.csv',\n",
       " 'classifier_name': 'cnn',\n",
       " 'batch_size': 16,\n",
       " 'epoch': 60,\n",
       " 'learning_rate': 0.001,\n",
       " 'sim_parm': None,\n",
       " 'model_dir': './scRNAEXPOUTPUT/cnn',\n",
       " 'model_path': './scRNAEXPOUTPUT/cnn/best_model.h5',\n",
       " 'shap_dir': './scRNAEXPOUTPUT/shap',\n",
       " 'shap_path': './scRNAEXPOUTPUT/shap/counts_all_shap.h5',\n",
       " 'result_dir': './scRNAEXPOUTPUT/result',\n",
       " 'result_path': './scRNAEXPOUTPUT/result/chord_all.csv'}"
      ]
     },
     "execution_count": 3,
     "metadata": {},
     "output_type": "execute_result"
    }
   ],
   "source": [
    "deepexdc.config"
   ]
  },
  {
   "cell_type": "code",
   "execution_count": 3,
   "metadata": {},
   "outputs": [
    {
     "name": "stderr",
     "output_type": "stream",
     "text": [
      "IProgress not found. Please update jupyter and ipywidgets. See https://ipywidgets.readthedocs.io/en/stable/user_install.html\n",
      "2024-10-25 15:24:10.471829: I tensorflow/tsl/cuda/cudart_stub.cc:28] Could not find cuda drivers on your machine, GPU will not be used.\n",
      "2024-10-25 15:24:11.586709: E tensorflow/compiler/xla/stream_executor/cuda/cuda_dnn.cc:9342] Unable to register cuDNN factory: Attempting to register factory for plugin cuDNN when one has already been registered\n",
      "2024-10-25 15:24:11.586769: E tensorflow/compiler/xla/stream_executor/cuda/cuda_fft.cc:609] Unable to register cuFFT factory: Attempting to register factory for plugin cuFFT when one has already been registered\n",
      "2024-10-25 15:24:11.590501: E tensorflow/compiler/xla/stream_executor/cuda/cuda_blas.cc:1518] Unable to register cuBLAS factory: Attempting to register factory for plugin cuBLAS when one has already been registered\n",
      "2024-10-25 15:24:12.153322: I tensorflow/tsl/cuda/cudart_stub.cc:28] Could not find cuda drivers on your machine, GPU will not be used.\n",
      "2024-10-25 15:24:12.156288: I tensorflow/core/platform/cpu_feature_guard.cc:182] This TensorFlow binary is optimized to use available CPU instructions in performance-critical operations.\n",
      "To enable the following instructions: AVX2 FMA, in other operations, rebuild TensorFlow with the appropriate compiler flags.\n",
      "2024-10-25 15:24:15.789381: W tensorflow/compiler/tf2tensorrt/utils/py_utils.cc:38] TF-TRT Warning: Could not find TensorRT\n"
     ]
    },
    {
     "name": "stdout",
     "output_type": "stream",
     "text": [
      "data.max: 1.0000000000000004\n",
      "data.min: -1.0\n",
      "------model eval------\n"
     ]
    },
    {
     "name": "stderr",
     "output_type": "stream",
     "text": [
      "`sparse` was renamed to `sparse_output` in version 1.2 and will be removed in 1.4. `sparse_output` is ignored unless you leave `sparse` to its default value.\n"
     ]
    },
    {
     "name": "stdout",
     "output_type": "stream",
     "text": [
      "6/6 [==============================] - 1s 12ms/step\n",
      "              precision    recall  f1-score   support\n",
      "\n",
      "          G1       1.00      1.00      1.00        48\n",
      "          G2       1.00      1.00      1.00        44\n",
      "\n",
      "    accuracy                           1.00        92\n",
      "   macro avg       1.00      1.00      1.00        92\n",
      "weighted avg       1.00      1.00      1.00        92\n",
      "\n"
     ]
    },
    {
     "name": "stderr",
     "output_type": "stream",
     "text": [
      "A column-vector y was passed when a 1d array was expected. Please change the shape of y to (n_samples, ), for example using ravel().\n",
      "Your TensorFlow version is newer than 2.4.0 and so graph support has been removed in eager mode and some static graphs may not be supported. See PR #1483 for discussion.\n"
     ]
    },
    {
     "name": "stdout",
     "output_type": "stream",
     "text": [
      "e.expected_value:[7.9311906e-07 9.9999911e-01]\n"
     ]
    },
    {
     "name": "stderr",
     "output_type": "stream",
     "text": [
      "  0%|          | 0/48 [00:00<?, ?it/s]`tf.keras.backend.set_learning_phase` is deprecated and will be removed after 2020-10-11. To update it, simply pass a True/False value to the `training` argument of the `__call__` method of your layer or model.\n",
      "100%|██████████| 48/48 [00:22<00:00,  2.17it/s]\n"
     ]
    },
    {
     "name": "stdout",
     "output_type": "stream",
     "text": [
      "(48, 2, 1, 11436, 1)\n",
      "e.expected_value:[9.999947e-01 5.412018e-06]\n"
     ]
    },
    {
     "name": "stderr",
     "output_type": "stream",
     "text": [
      "100%|██████████| 44/44 [00:24<00:00,  1.77it/s]"
     ]
    },
    {
     "name": "stdout",
     "output_type": "stream",
     "text": [
      "(44, 2, 1, 11436, 1)\n",
      "(92, 2, 1, 11436, 1)\n"
     ]
    },
    {
     "name": "stderr",
     "output_type": "stream",
     "text": [
      "\n"
     ]
    }
   ],
   "source": [
    "deepexdc.run_shap()"
   ]
  },
  {
   "cell_type": "code",
   "execution_count": 4,
   "metadata": {},
   "outputs": [
    {
     "name": "stdout",
     "output_type": "stream",
     "text": [
      "shap_data.shape (11436, 92, 2)\n",
      "  cell_id cell_type  filter\n",
      "0  cell_0        G1       1\n",
      "1  cell_1        G1       1\n",
      "2  cell_2        G1       1\n",
      "3  cell_3        G1       1\n",
      "4  cell_4        G1       1\n"
     ]
    },
    {
     "name": "stderr",
     "output_type": "stream",
     "text": [
      "100%|██████████| 11436/11436 [01:15<00:00, 152.35it/s]\n"
     ]
    },
    {
     "name": "stdout",
     "output_type": "stream",
     "text": [
      "csv save to: ./scRNAEXPOUTPUT/result/chord_all.csv\n"
     ]
    }
   ],
   "source": [
    "deepexdc.run_dc()"
   ]
  }
 ],
 "metadata": {
  "kernelspec": {
   "display_name": "Python 3.9.20 ('DeepExDC')",
   "language": "python",
   "name": "python3"
  },
  "language_info": {
   "codemirror_mode": {
    "name": "ipython",
    "version": 3
   },
   "file_extension": ".py",
   "mimetype": "text/x-python",
   "name": "python",
   "nbconvert_exporter": "python",
   "pygments_lexer": "ipython3",
   "version": "3.9.20"
  },
  "vscode": {
   "interpreter": {
    "hash": "ffb6008f93e8a199d8044d4ca336490872842b2c22ddec706d777c7eb0f86f73"
   }
  }
 },
 "nbformat": 4,
 "nbformat_minor": 2
}
