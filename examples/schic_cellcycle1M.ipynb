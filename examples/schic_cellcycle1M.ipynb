{
 "cells": [
  {
   "cell_type": "code",
   "execution_count": 1,
   "metadata": {},
   "outputs": [],
   "source": [
    "from DeepExDC import DeepExDC"
   ]
  },
  {
   "cell_type": "code",
   "execution_count": 2,
   "metadata": {},
   "outputs": [],
   "source": [
    "#实例化DeepExDC对象\n",
    "deepexdc=DeepExDC.DeepExDC(config_path=\"./config_scHiC.JSON\")"
   ]
  },
  {
   "cell_type": "code",
   "execution_count": 3,
   "metadata": {},
   "outputs": [
    {
     "name": "stdout",
     "output_type": "stream",
     "text": [
      "folder_temp: ../annotation/mm9/mm9_1000000_goldenpathData\n",
      "download cytoBand.txt.gz\n"
     ]
    },
    {
     "ename": "FileNotFoundError",
     "evalue": "[Errno 2] No such file or directory: 'curl'",
     "output_type": "error",
     "traceback": [
      "\u001b[0;31m---------------------------------------------------------------------------\u001b[0m",
      "\u001b[0;31mFileNotFoundError\u001b[0m                         Traceback (most recent call last)",
      "Cell \u001b[0;32mIn[3], line 2\u001b[0m\n\u001b[1;32m      1\u001b[0m \u001b[38;5;66;03m#计算单细胞compartment score\u001b[39;00m\n\u001b[0;32m----> 2\u001b[0m \u001b[43mdeepexdc\u001b[49m\u001b[38;5;241;43m.\u001b[39;49m\u001b[43mcal_comparment\u001b[49m\u001b[43m(\u001b[49m\u001b[43m)\u001b[49m\n",
      "File \u001b[0;32m~/anaconda3/envs/DeepExDC/lib/python3.9/site-packages/DeepExDC/DeepExDC.py:29\u001b[0m, in \u001b[0;36mDeepExDC.cal_comparment\u001b[0;34m(self)\u001b[0m\n\u001b[1;32m     27\u001b[0m \u001b[39mexcept\u001b[39;00m:\n\u001b[1;32m     28\u001b[0m \t\u001b[39mfrom\u001b[39;00m \u001b[39m.\u001b[39;00m\u001b[39mcompartment_score\u001b[39;00m \u001b[39mimport\u001b[39;00m start_call_compartment\n\u001b[0;32m---> 29\u001b[0m start_call_compartment(\u001b[39mself\u001b[39;49m\u001b[39m.\u001b[39;49mconfig)\n",
      "File \u001b[0;32m~/anaconda3/envs/DeepExDC/lib/python3.9/site-packages/DeepExDC/compartment_score.py:473\u001b[0m, in \u001b[0;36mstart_call_compartment\u001b[0;34m(config)\u001b[0m\n\u001b[1;32m    467\u001b[0m chrom_list \u001b[39m=\u001b[39m  config[\u001b[39m\"\u001b[39m\u001b[39mchrom_list\u001b[39m\u001b[39m\"\u001b[39m]\n\u001b[1;32m    470\u001b[0m anno_dir \u001b[39m=\u001b[39m config\u001b[39m.\u001b[39mget(\u001b[39m'\u001b[39m\u001b[39manno_dir\u001b[39m\u001b[39m'\u001b[39m,\u001b[39mNone\u001b[39;00m)\n\u001b[0;32m--> 473\u001b[0m goldenpath, cytoband_path \u001b[39m=\u001b[39m download_and_extract(genome, anno_dir, res)\n\u001b[1;32m    475\u001b[0m \u001b[39mprint\u001b[39m(raw_dir)\n\u001b[1;32m    478\u001b[0m config[\u001b[39m\"\u001b[39m\u001b[39mgoldenpath\u001b[39m\u001b[39m\"\u001b[39m] \u001b[39m=\u001b[39m goldenpath\n",
      "File \u001b[0;32m~/anaconda3/envs/DeepExDC/lib/python3.9/site-packages/DeepExDC/compartment_score.py:199\u001b[0m, in \u001b[0;36mdownload_and_extract\u001b[0;34m(genome, anno_dir, res)\u001b[0m\n\u001b[1;32m    197\u001b[0m \u001b[39mif\u001b[39;00m \u001b[39mnot\u001b[39;00m os\u001b[39m.\u001b[39mpath\u001b[39m.\u001b[39mexists(\u001b[39mf\u001b[39m\u001b[39m\"\u001b[39m\u001b[39m{\u001b[39;00mfolder\u001b[39m}\u001b[39;00m\u001b[39m/cytoBand.txt.gz\u001b[39m\u001b[39m\"\u001b[39m):\n\u001b[1;32m    198\u001b[0m \t\u001b[39mprint\u001b[39m(\u001b[39m\"\u001b[39m\u001b[39mdownload cytoBand.txt.gz\u001b[39m\u001b[39m\"\u001b[39m)\n\u001b[0;32m--> 199\u001b[0m \tdownload_file_with_curl(\u001b[39mf\u001b[39;49m\u001b[39m\"\u001b[39;49m\u001b[39mhttp://hgdownload.cse.ucsc.edu/goldenPath/\u001b[39;49m\u001b[39m{\u001b[39;49;00mgenome\u001b[39m}\u001b[39;49;00m\u001b[39m/database/cytoBand.txt.gz\u001b[39;49m\u001b[39m\"\u001b[39;49m, folder)\n\u001b[1;32m    201\u001b[0m \u001b[39mif\u001b[39;00m \u001b[39mnot\u001b[39;00m os\u001b[39m.\u001b[39mpath\u001b[39m.\u001b[39mexists(\u001b[39mf\u001b[39m\u001b[39m\"\u001b[39m\u001b[39m{\u001b[39;00mfolder\u001b[39m}\u001b[39;00m\u001b[39m/cytoBand.txt\u001b[39m\u001b[39m\"\u001b[39m):  \n\u001b[1;32m    202\u001b[0m \t\u001b[39mprint\u001b[39m(\u001b[39mf\u001b[39m\u001b[39m\"\u001b[39m\u001b[39mUnzipping cytoBand.txt\u001b[39m\u001b[39m\"\u001b[39m)\n",
      "File \u001b[0;32m~/anaconda3/envs/DeepExDC/lib/python3.9/site-packages/DeepExDC/compartment_score.py:174\u001b[0m, in \u001b[0;36mdownload_file_with_curl\u001b[0;34m(url, destination)\u001b[0m\n\u001b[1;32m    173\u001b[0m \u001b[39mdef\u001b[39;00m \u001b[39mdownload_file_with_curl\u001b[39m(url, destination):\n\u001b[0;32m--> 174\u001b[0m \tsubprocess\u001b[39m.\u001b[39;49mrun([\u001b[39m'\u001b[39;49m\u001b[39mcurl\u001b[39;49m\u001b[39m'\u001b[39;49m, \u001b[39m'\u001b[39;49m\u001b[39m-O\u001b[39;49m\u001b[39m'\u001b[39;49m, url, \u001b[39m'\u001b[39;49m\u001b[39m-L\u001b[39;49m\u001b[39m'\u001b[39;49m], check\u001b[39m=\u001b[39;49m\u001b[39mTrue\u001b[39;49;00m, cwd\u001b[39m=\u001b[39;49mdestination)\n",
      "File \u001b[0;32m~/anaconda3/envs/DeepExDC/lib/python3.9/subprocess.py:505\u001b[0m, in \u001b[0;36mrun\u001b[0;34m(input, capture_output, timeout, check, *popenargs, **kwargs)\u001b[0m\n\u001b[1;32m    502\u001b[0m     kwargs[\u001b[39m'\u001b[39m\u001b[39mstdout\u001b[39m\u001b[39m'\u001b[39m] \u001b[39m=\u001b[39m PIPE\n\u001b[1;32m    503\u001b[0m     kwargs[\u001b[39m'\u001b[39m\u001b[39mstderr\u001b[39m\u001b[39m'\u001b[39m] \u001b[39m=\u001b[39m PIPE\n\u001b[0;32m--> 505\u001b[0m \u001b[39mwith\u001b[39;00m Popen(\u001b[39m*\u001b[39;49mpopenargs, \u001b[39m*\u001b[39;49m\u001b[39m*\u001b[39;49mkwargs) \u001b[39mas\u001b[39;00m process:\n\u001b[1;32m    506\u001b[0m     \u001b[39mtry\u001b[39;00m:\n\u001b[1;32m    507\u001b[0m         stdout, stderr \u001b[39m=\u001b[39m process\u001b[39m.\u001b[39mcommunicate(\u001b[39minput\u001b[39m, timeout\u001b[39m=\u001b[39mtimeout)\n",
      "File \u001b[0;32m~/anaconda3/envs/DeepExDC/lib/python3.9/subprocess.py:951\u001b[0m, in \u001b[0;36mPopen.__init__\u001b[0;34m(self, args, bufsize, executable, stdin, stdout, stderr, preexec_fn, close_fds, shell, cwd, env, universal_newlines, startupinfo, creationflags, restore_signals, start_new_session, pass_fds, user, group, extra_groups, encoding, errors, text, umask)\u001b[0m\n\u001b[1;32m    947\u001b[0m         \u001b[39mif\u001b[39;00m \u001b[39mself\u001b[39m\u001b[39m.\u001b[39mtext_mode:\n\u001b[1;32m    948\u001b[0m             \u001b[39mself\u001b[39m\u001b[39m.\u001b[39mstderr \u001b[39m=\u001b[39m io\u001b[39m.\u001b[39mTextIOWrapper(\u001b[39mself\u001b[39m\u001b[39m.\u001b[39mstderr,\n\u001b[1;32m    949\u001b[0m                     encoding\u001b[39m=\u001b[39mencoding, errors\u001b[39m=\u001b[39merrors)\n\u001b[0;32m--> 951\u001b[0m     \u001b[39mself\u001b[39;49m\u001b[39m.\u001b[39;49m_execute_child(args, executable, preexec_fn, close_fds,\n\u001b[1;32m    952\u001b[0m                         pass_fds, cwd, env,\n\u001b[1;32m    953\u001b[0m                         startupinfo, creationflags, shell,\n\u001b[1;32m    954\u001b[0m                         p2cread, p2cwrite,\n\u001b[1;32m    955\u001b[0m                         c2pread, c2pwrite,\n\u001b[1;32m    956\u001b[0m                         errread, errwrite,\n\u001b[1;32m    957\u001b[0m                         restore_signals,\n\u001b[1;32m    958\u001b[0m                         gid, gids, uid, umask,\n\u001b[1;32m    959\u001b[0m                         start_new_session)\n\u001b[1;32m    960\u001b[0m \u001b[39mexcept\u001b[39;00m:\n\u001b[1;32m    961\u001b[0m     \u001b[39m# Cleanup if the child failed starting.\u001b[39;00m\n\u001b[1;32m    962\u001b[0m     \u001b[39mfor\u001b[39;00m f \u001b[39min\u001b[39;00m \u001b[39mfilter\u001b[39m(\u001b[39mNone\u001b[39;00m, (\u001b[39mself\u001b[39m\u001b[39m.\u001b[39mstdin, \u001b[39mself\u001b[39m\u001b[39m.\u001b[39mstdout, \u001b[39mself\u001b[39m\u001b[39m.\u001b[39mstderr)):\n",
      "File \u001b[0;32m~/anaconda3/envs/DeepExDC/lib/python3.9/subprocess.py:1837\u001b[0m, in \u001b[0;36mPopen._execute_child\u001b[0;34m(self, args, executable, preexec_fn, close_fds, pass_fds, cwd, env, startupinfo, creationflags, shell, p2cread, p2cwrite, c2pread, c2pwrite, errread, errwrite, restore_signals, gid, gids, uid, umask, start_new_session)\u001b[0m\n\u001b[1;32m   1835\u001b[0m     \u001b[39mif\u001b[39;00m errno_num \u001b[39m!=\u001b[39m \u001b[39m0\u001b[39m:\n\u001b[1;32m   1836\u001b[0m         err_msg \u001b[39m=\u001b[39m os\u001b[39m.\u001b[39mstrerror(errno_num)\n\u001b[0;32m-> 1837\u001b[0m     \u001b[39mraise\u001b[39;00m child_exception_type(errno_num, err_msg, err_filename)\n\u001b[1;32m   1838\u001b[0m \u001b[39mraise\u001b[39;00m child_exception_type(err_msg)\n",
      "\u001b[0;31mFileNotFoundError\u001b[0m: [Errno 2] No such file or directory: 'curl'"
     ]
    }
   ],
   "source": [
    "#计算单细胞compartment score\n",
    "deepexdc.cal_comparment()"
   ]
  },
  {
   "cell_type": "code",
   "execution_count": null,
   "metadata": {},
   "outputs": [
    {
     "name": "stdout",
     "output_type": "stream",
     "text": [
      "data.max: 1.0000000000000009\n",
      "data.min: -1.0000000000000002\n"
     ]
    },
    {
     "name": "stderr",
     "output_type": "stream",
     "text": [
      "2024-09-14 17:22:16,743:INFO:MulticlassOversampling: Running multiclass oversampling with strategy eq_1_vs_many_successive\n",
      "2024-09-14 17:22:16,759:INFO:MulticlassOversampling: Sampling minority class with label: 3\n",
      "2024-09-14 17:22:16,780:INFO:distance_SMOTE: Running sampling via ('distance_SMOTE', \"{'proportion': 1.0, 'n_neighbors': 5, 'nn_params': {}, 'n_jobs': 2, 'ss_params': {'n_dim': 2, 'simplex_sampling': 'random', 'within_simplex_sampling': 'random', 'gaussian_component': {}}, 'random_state': 42, 'class_name': 'distance_SMOTE'}\")\n",
      "2024-09-14 17:22:16,799:INFO:NearestNeighborsWithMetricTensor: NN fitting with metric minkowski\n",
      "2024-09-14 17:22:16,802:INFO:NearestNeighborsWithMetricTensor: kneighbors query minkowski\n"
     ]
    },
    {
     "name": "stdout",
     "output_type": "stream",
     "text": [
      "['1CDX1', '1CDX2', '1CDX3', '1CDX4', 'zero']\n"
     ]
    },
    {
     "name": "stderr",
     "output_type": "stream",
     "text": [
      "2024-09-14 17:22:17,011:INFO:distance_SMOTE: simplex sampling with n_dim 2\n",
      "2024-09-14 17:22:17,192:INFO:MulticlassOversampling: Sampling minority class with label: 1\n",
      "2024-09-14 17:22:17,232:INFO:distance_SMOTE: Running sampling via ('distance_SMOTE', \"{'proportion': 0.41072480848556275, 'n_neighbors': 5, 'nn_params': {}, 'n_jobs': 2, 'ss_params': {'n_dim': 2, 'simplex_sampling': 'random', 'within_simplex_sampling': 'random', 'gaussian_component': {}}, 'random_state': 42, 'class_name': 'distance_SMOTE'}\")\n",
      "2024-09-14 17:22:17,235:INFO:NearestNeighborsWithMetricTensor: NN fitting with metric minkowski\n",
      "2024-09-14 17:22:17,238:INFO:NearestNeighborsWithMetricTensor: kneighbors query minkowski\n",
      "2024-09-14 17:22:17,284:INFO:distance_SMOTE: simplex sampling with n_dim 2\n",
      "2024-09-14 17:22:17,364:INFO:MulticlassOversampling: Sampling minority class with label: 0\n",
      "2024-09-14 17:22:17,401:INFO:distance_SMOTE: Running sampling via ('distance_SMOTE', \"{'proportion': 0.2647058823529412, 'n_neighbors': 5, 'nn_params': {}, 'n_jobs': 2, 'ss_params': {'n_dim': 2, 'simplex_sampling': 'random', 'within_simplex_sampling': 'random', 'gaussian_component': {}}, 'random_state': 42, 'class_name': 'distance_SMOTE'}\")\n",
      "2024-09-14 17:22:17,404:INFO:NearestNeighborsWithMetricTensor: NN fitting with metric minkowski\n",
      "2024-09-14 17:22:17,406:INFO:NearestNeighborsWithMetricTensor: kneighbors query minkowski\n",
      "2024-09-14 17:22:17,441:INFO:distance_SMOTE: simplex sampling with n_dim 2\n",
      "2024-09-14 17:22:17,550:INFO:MulticlassOversampling: Sampling minority class with label: 2\n",
      "2024-09-14 17:22:17,594:INFO:distance_SMOTE: Running sampling via ('distance_SMOTE', \"{'proportion': 0.19743178170144463, 'n_neighbors': 5, 'nn_params': {}, 'n_jobs': 2, 'ss_params': {'n_dim': 2, 'simplex_sampling': 'random', 'within_simplex_sampling': 'random', 'gaussian_component': {}}, 'random_state': 42, 'class_name': 'distance_SMOTE'}\")\n",
      "2024-09-14 17:22:17,597:INFO:NearestNeighborsWithMetricTensor: NN fitting with metric minkowski\n",
      "2024-09-14 17:22:17,599:INFO:NearestNeighborsWithMetricTensor: kneighbors query minkowski\n",
      "2024-09-14 17:22:17,631:INFO:distance_SMOTE: simplex sampling with n_dim 2\n"
     ]
    },
    {
     "name": "stdout",
     "output_type": "stream",
     "text": [
      "1CDX1    1000\n",
      "1CDX2    1000\n",
      "1CDX3    1000\n",
      "1CDX4    1000\n",
      "Name: cell_type, dtype: int64\n"
     ]
    },
    {
     "name": "stderr",
     "output_type": "stream",
     "text": [
      "/usr/local/anaconda/envs/deephic/lib/python3.9/site-packages/sklearn/preprocessing/_encoders.py:975: FutureWarning: `sparse` was renamed to `sparse_output` in version 1.2 and will be removed in 1.4. `sparse_output` is ignored unless you leave `sparse` to its default value.\n",
      "  warnings.warn(\n"
     ]
    },
    {
     "name": "stdout",
     "output_type": "stream",
     "text": [
      "X_train.shape: (3200, 2582, 1)\n",
      "y_train.shape: (3200, 4)\n",
      "\n",
      "X_test.shape: (800, 2582, 1)\n",
      "y_test.shape: (800, 4)\n"
     ]
    },
    {
     "name": "stderr",
     "output_type": "stream",
     "text": [
      "2024-09-14 17:22:18.839354: I tensorflow/tsl/cuda/cudart_stub.cc:28] Could not find cuda drivers on your machine, GPU will not be used.\n",
      "2024-09-14 17:22:18.885200: E tensorflow/compiler/xla/stream_executor/cuda/cuda_dnn.cc:9342] Unable to register cuDNN factory: Attempting to register factory for plugin cuDNN when one has already been registered\n",
      "2024-09-14 17:22:18.885251: E tensorflow/compiler/xla/stream_executor/cuda/cuda_fft.cc:609] Unable to register cuFFT factory: Attempting to register factory for plugin cuFFT when one has already been registered\n",
      "2024-09-14 17:22:18.885281: E tensorflow/compiler/xla/stream_executor/cuda/cuda_blas.cc:1518] Unable to register cuBLAS factory: Attempting to register factory for plugin cuBLAS when one has already been registered\n",
      "2024-09-14 17:22:18.893539: I tensorflow/tsl/cuda/cudart_stub.cc:28] Could not find cuda drivers on your machine, GPU will not be used.\n",
      "2024-09-14 17:22:18.894839: I tensorflow/core/platform/cpu_feature_guard.cc:182] This TensorFlow binary is optimized to use available CPU instructions in performance-critical operations.\n",
      "To enable the following instructions: AVX2 FMA, in other operations, rebuild TensorFlow with the appropriate compiler flags.\n",
      "2024-09-14 17:22:20.454753: W tensorflow/compiler/tf2tensorrt/utils/py_utils.cc:38] TF-TRT Warning: Could not find TensorRT\n"
     ]
    },
    {
     "name": "stdout",
     "output_type": "stream",
     "text": [
      "Using Tensorflow version: 2.14.0, and Keras version: 2.14.0.\n",
      "acti: tanh\n",
      "Model: \"model\"\n",
      "_________________________________________________________________\n",
      " Layer (type)                Output Shape              Param #   \n",
      "=================================================================\n",
      " input_1 (InputLayer)        [(None, 2582, 1)]         0         \n",
      "                                                                 \n",
      " conv1d (Conv1D)             (None, 2580, 8)           32        \n",
      "                                                                 \n",
      " max_pooling1d (MaxPooling1  (None, 1290, 8)           0         \n",
      " D)                                                              \n",
      "                                                                 \n",
      " conv1d_1 (Conv1D)           (None, 1288, 16)          400       \n",
      "                                                                 \n",
      " max_pooling1d_1 (MaxPoolin  (None, 644, 16)           0         \n",
      " g1D)                                                            \n",
      "                                                                 \n",
      " flatten (Flatten)           (None, 10304)             0         \n",
      "                                                                 \n",
      " dense (Dense)               (None, 4)                 41220     \n",
      "                                                                 \n",
      "=================================================================\n",
      "Total params: 41652 (162.70 KB)\n",
      "Trainable params: 41652 (162.70 KB)\n",
      "Non-trainable params: 0 (0.00 Byte)\n",
      "_________________________________________________________________\n",
      "./scHiCEXPOUTPUT/cnn\n",
      "Epoch 1/60\n",
      "200/200 [==============================] - 4s 15ms/step - loss: 0.6263 - accuracy: 0.7794 - val_loss: 0.3639 - val_accuracy: 0.9013\n",
      "Epoch 2/60\n",
      "  6/200 [..............................] - ETA: 2s - loss: 0.2218 - accuracy: 0.9479"
     ]
    },
    {
     "name": "stderr",
     "output_type": "stream",
     "text": [
      "/usr/local/anaconda/envs/deephic/lib/python3.9/site-packages/keras/src/engine/training.py:3079: UserWarning: You are saving your model as an HDF5 file via `model.save()`. This file format is considered legacy. We recommend using instead the native Keras format, e.g. `model.save('my_model.keras')`.\n",
      "  saving_api.save_model(\n"
     ]
    },
    {
     "name": "stdout",
     "output_type": "stream",
     "text": [
      "200/200 [==============================] - 3s 13ms/step - loss: 0.1983 - accuracy: 0.9425 - val_loss: 0.2001 - val_accuracy: 0.9488\n",
      "Epoch 3/60\n",
      "200/200 [==============================] - 3s 13ms/step - loss: 0.0813 - accuracy: 0.9812 - val_loss: 0.2026 - val_accuracy: 0.9413\n",
      "Epoch 4/60\n",
      "200/200 [==============================] - 3s 13ms/step - loss: 0.0401 - accuracy: 0.9919 - val_loss: 0.1401 - val_accuracy: 0.9613\n",
      "Epoch 5/60\n",
      "200/200 [==============================] - 3s 14ms/step - loss: 0.0151 - accuracy: 0.9978 - val_loss: 0.1340 - val_accuracy: 0.9650\n",
      "Epoch 6/60\n",
      "200/200 [==============================] - 3s 13ms/step - loss: 0.0068 - accuracy: 0.9994 - val_loss: 0.1265 - val_accuracy: 0.9650\n",
      "Epoch 7/60\n",
      "200/200 [==============================] - 3s 13ms/step - loss: 0.0052 - accuracy: 0.9997 - val_loss: 0.1366 - val_accuracy: 0.9700\n",
      "Epoch 8/60\n",
      "200/200 [==============================] - 3s 13ms/step - loss: 0.0034 - accuracy: 0.9997 - val_loss: 0.1355 - val_accuracy: 0.9675\n",
      "Epoch 9/60\n",
      "200/200 [==============================] - 2s 12ms/step - loss: 0.0020 - accuracy: 1.0000 - val_loss: 0.1291 - val_accuracy: 0.9700\n",
      "Epoch 10/60\n",
      "200/200 [==============================] - 3s 13ms/step - loss: 0.0014 - accuracy: 1.0000 - val_loss: 0.1310 - val_accuracy: 0.9712\n",
      "Epoch 11/60\n",
      "200/200 [==============================] - 3s 13ms/step - loss: 0.0011 - accuracy: 1.0000 - val_loss: 0.1322 - val_accuracy: 0.9688\n",
      "Epoch 12/60\n",
      "200/200 [==============================] - 3s 13ms/step - loss: 8.7475e-04 - accuracy: 1.0000 - val_loss: 0.1331 - val_accuracy: 0.9712\n",
      "Epoch 13/60\n",
      "200/200 [==============================] - 3s 13ms/step - loss: 7.1992e-04 - accuracy: 1.0000 - val_loss: 0.1357 - val_accuracy: 0.9725\n",
      "Epoch 14/60\n",
      "200/200 [==============================] - 3s 13ms/step - loss: 6.0956e-04 - accuracy: 1.0000 - val_loss: 0.1396 - val_accuracy: 0.9725\n",
      "Epoch 15/60\n",
      "200/200 [==============================] - 3s 13ms/step - loss: 5.1732e-04 - accuracy: 1.0000 - val_loss: 0.1380 - val_accuracy: 0.9725\n",
      "Epoch 16/60\n",
      "200/200 [==============================] - 3s 13ms/step - loss: 4.4084e-04 - accuracy: 1.0000 - val_loss: 0.1433 - val_accuracy: 0.9712\n",
      "Epoch 16: early stopping\n",
      "25/25 [==============================] - 0s 6ms/step - loss: 0.1433 - accuracy: 0.9712\n",
      "Accuracy: 97.12%\n"
     ]
    }
   ],
   "source": [
    "deepexdc.train_model()"
   ]
  },
  {
   "cell_type": "code",
   "execution_count": null,
   "metadata": {},
   "outputs": [
    {
     "name": "stderr",
     "output_type": "stream",
     "text": [
      "IProgress not found. Please update jupyter and ipywidgets. See https://ipywidgets.readthedocs.io/en/stable/user_install.html\n"
     ]
    },
    {
     "name": "stdout",
     "output_type": "stream",
     "text": [
      "data.max: 1.0000000000000009\n",
      "data.min: -1.0000000000000002\n",
      "X_test.shape: (235, 2582)\n",
      "y_test.shape: (235, 2)\n",
      "------model eval------\n",
      " 1/59 [..............................] - ETA: 7s"
     ]
    },
    {
     "name": "stderr",
     "output_type": "stream",
     "text": [
      "`sparse` was renamed to `sparse_output` in version 1.2 and will be removed in 1.4. `sparse_output` is ignored unless you leave `sparse` to its default value.\n"
     ]
    },
    {
     "name": "stdout",
     "output_type": "stream",
     "text": [
      "59/59 [==============================] - 0s 5ms/step\n",
      "              precision    recall  f1-score   support\n",
      "\n",
      "       1CDX1       0.97      0.99      0.98       221\n",
      "       1CDX2       0.99      0.98      0.98       247\n",
      "       1CDX3       0.98      0.98      0.98       213\n",
      "       1CDX4       0.98      0.98      0.98       255\n",
      "\n",
      "    accuracy                           0.98       936\n",
      "   macro avg       0.98      0.98      0.98       936\n",
      "weighted avg       0.98      0.98      0.98       936\n",
      "\n",
      "------model eval------\n",
      "15/15 [==============================] - 0s 5ms/step\n",
      "              precision    recall  f1-score   support\n",
      "\n",
      "       1CDX1       0.97      1.00      0.98        59\n",
      "       1CDX2       0.98      0.98      0.98        56\n",
      "       1CDX3       1.00      0.96      0.98        49\n",
      "       1CDX4       0.99      0.99      0.99        71\n",
      "\n",
      "    accuracy                           0.98       235\n",
      "   macro avg       0.98      0.98      0.98       235\n",
      "weighted avg       0.98      0.98      0.98       235\n",
      "\n"
     ]
    },
    {
     "name": "stderr",
     "output_type": "stream",
     "text": [
      "A column-vector y was passed when a 1d array was expected. Please change the shape of y to (n_samples, ), for example using ravel().\n",
      "`sparse` was renamed to `sparse_output` in version 1.2 and will be removed in 1.4. `sparse_output` is ignored unless you leave `sparse` to its default value.\n",
      "A column-vector y was passed when a 1d array was expected. Please change the shape of y to (n_samples, ), for example using ravel().\n",
      "Your TensorFlow version is newer than 2.4.0 and so graph support has been removed in eager mode and some static graphs may not be supported. See PR #1483 for discussion.\n"
     ]
    },
    {
     "name": "stdout",
     "output_type": "stream",
     "text": [
      "e.expected_value:[0.00149143 0.36784428 0.23694426 0.39372003]\n"
     ]
    },
    {
     "name": "stderr",
     "output_type": "stream",
     "text": [
      "  0%|          | 0/59 [00:00<?, ?it/s]`tf.keras.backend.set_learning_phase` is deprecated and will be removed after 2020-10-11. To update it, simply pass a True/False value to the `training` argument of the `__call__` method of your layer or model.\n",
      "100%|██████████| 59/59 [00:28<00:00,  2.07it/s]\n"
     ]
    },
    {
     "name": "stdout",
     "output_type": "stream",
     "text": [
      "(59, 4, 1, 2582, 1)\n",
      "e.expected_value:[3.2128352e-01 2.0221506e-04 4.0816888e-01 2.7034533e-01]\n"
     ]
    },
    {
     "name": "stderr",
     "output_type": "stream",
     "text": [
      "  0%|          | 0/55 [00:00<?, ?it/s]"
     ]
    },
    {
     "name": "stdout",
     "output_type": "stream",
     "text": [
      "WARNING:tensorflow:5 out of the last 237 calls to <function TFDeep.phi_symbolic.<locals>.grad_graph at 0x7f3a032d34c0> triggered tf.function retracing. Tracing is expensive and the excessive number of tracings could be due to (1) creating @tf.function repeatedly in a loop, (2) passing tensors with different shapes, (3) passing Python objects instead of tensors. For (1), please define your @tf.function outside of the loop. For (2), @tf.function has reduce_retracing=True option that can avoid unnecessary retracing. For (3), please refer to https://www.tensorflow.org/guide/function#controlling_retracing and https://www.tensorflow.org/api_docs/python/tf/function for  more details.\n"
     ]
    },
    {
     "name": "stderr",
     "output_type": "stream",
     "text": [
      "100%|██████████| 55/55 [00:26<00:00,  2.07it/s]\n"
     ]
    },
    {
     "name": "stdout",
     "output_type": "stream",
     "text": [
      "(55, 4, 1, 2582, 1)\n",
      "e.expected_value:[3.1070167e-01 3.6912629e-01 3.0385400e-04 3.1986821e-01]\n"
     ]
    },
    {
     "name": "stderr",
     "output_type": "stream",
     "text": [
      "  0%|          | 0/47 [00:00<?, ?it/s]"
     ]
    },
    {
     "name": "stdout",
     "output_type": "stream",
     "text": [
      "WARNING:tensorflow:5 out of the last 221 calls to <function TFDeep.phi_symbolic.<locals>.grad_graph at 0x7f3a031099d0> triggered tf.function retracing. Tracing is expensive and the excessive number of tracings could be due to (1) creating @tf.function repeatedly in a loop, (2) passing tensors with different shapes, (3) passing Python objects instead of tensors. For (1), please define your @tf.function outside of the loop. For (2), @tf.function has reduce_retracing=True option that can avoid unnecessary retracing. For (3), please refer to https://www.tensorflow.org/guide/function#controlling_retracing and https://www.tensorflow.org/api_docs/python/tf/function for  more details.\n"
     ]
    },
    {
     "name": "stderr",
     "output_type": "stream",
     "text": [
      "100%|██████████| 47/47 [00:22<00:00,  2.08it/s]\n"
     ]
    },
    {
     "name": "stdout",
     "output_type": "stream",
     "text": [
      "(47, 4, 1, 2582, 1)\n",
      "e.expected_value:[4.1018394e-01 3.0147058e-01 2.8819954e-01 1.4585683e-04]\n"
     ]
    },
    {
     "name": "stderr",
     "output_type": "stream",
     "text": [
      "100%|██████████| 70/70 [00:33<00:00,  2.12it/s]\n"
     ]
    },
    {
     "name": "stdout",
     "output_type": "stream",
     "text": [
      "(70, 4, 1, 2582, 1)\n",
      "(231, 4, 1, 2582, 1)\n",
      "SHAP_value save to:./scHiCEXPOUTPUT/shap/compartment_raw_test_shap.h5\n"
     ]
    }
   ],
   "source": [
    "deepexdc.run_shap()"
   ]
  },
  {
   "cell_type": "code",
   "execution_count": null,
   "metadata": {},
   "outputs": [
    {
     "name": "stdout",
     "output_type": "stream",
     "text": [
      "shap_data.shape (2582, 231, 4)\n",
      "    cell_id cell_type\n",
      "0  cell_188     1CDX1\n",
      "1  cell_221     1CDX1\n",
      "2   cell_13     1CDX1\n",
      "3  cell_260     1CDX1\n",
      "4   cell_18     1CDX1\n"
     ]
    },
    {
     "name": "stderr",
     "output_type": "stream",
     "text": [
      "100%|██████████| 2582/2582 [00:35<00:00, 72.94it/s]"
     ]
    },
    {
     "name": "stdout",
     "output_type": "stream",
     "text": [
      "csv save to: ./scHiCEXPOUTPUT/result/chord_test.csv\n"
     ]
    },
    {
     "name": "stderr",
     "output_type": "stream",
     "text": [
      "\n"
     ]
    }
   ],
   "source": [
    "deepexdc.run_dc()"
   ]
  }
 ],
 "metadata": {
  "kernelspec": {
   "display_name": "Python 3.9.20 ('DeepExDC')",
   "language": "python",
   "name": "python3"
  },
  "language_info": {
   "codemirror_mode": {
    "name": "ipython",
    "version": 3
   },
   "file_extension": ".py",
   "mimetype": "text/x-python",
   "name": "python",
   "nbconvert_exporter": "python",
   "pygments_lexer": "ipython3",
   "version": "3.9.20"
  },
  "vscode": {
   "interpreter": {
    "hash": "ffb6008f93e8a199d8044d4ca336490872842b2c22ddec706d777c7eb0f86f73"
   }
  }
 },
 "nbformat": 4,
 "nbformat_minor": 2
}
